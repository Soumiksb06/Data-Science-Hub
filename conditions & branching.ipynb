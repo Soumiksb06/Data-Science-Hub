{
 "cells": [
  {
   "cell_type": "code",
   "execution_count": 3,
   "id": "54d57eb3",
   "metadata": {},
   "outputs": [
    {
     "data": {
      "text/plain": [
       "False"
      ]
     },
     "execution_count": 3,
     "metadata": {},
     "output_type": "execute_result"
    }
   ],
   "source": [
    "#Conditional operators\n",
    "a = 21\n",
    "b = 20\n",
    "a == b"
   ]
  },
  {
   "cell_type": "code",
   "execution_count": 8,
   "id": "6ff10d7b",
   "metadata": {},
   "outputs": [
    {
     "data": {
      "text/plain": [
       "False"
      ]
     },
     "execution_count": 8,
     "metadata": {},
     "output_type": "execute_result"
    }
   ],
   "source": [
    "i=5\n",
    "i>5\n",
    "i>=5\n",
    "i==5\n",
    "i<5\n",
    "i!=5"
   ]
  },
  {
   "cell_type": "code",
   "execution_count": 10,
   "id": "c104ca17",
   "metadata": {},
   "outputs": [
    {
     "data": {
      "text/plain": [
       "True"
      ]
     },
     "execution_count": 10,
     "metadata": {},
     "output_type": "execute_result"
    }
   ],
   "source": [
    "\"ABC\" == \"DEF\"\n",
    "\"ABC\"!=\"DEF\""
   ]
  },
  {
   "cell_type": "code",
   "execution_count": 34,
   "id": "52a4c91d",
   "metadata": {
    "scrolled": true
   },
   "outputs": [
    {
     "name": "stdout",
     "output_type": "stream",
     "text": [
      "You can't marry now!\n",
      "Congrats!\n"
     ]
    }
   ],
   "source": [
    "age = 18\n",
    "if(age>=21):\n",
    "    print(\"You can marry!\")\n",
    "elif(age==20):\n",
    "    print(\"Wait for 1 more year\")\n",
    "else:\n",
    "    print(\"You can't marry now!\")\n",
    "print(\"Congrats!\")"
   ]
  },
  {
   "cell_type": "code",
   "execution_count": 36,
   "id": "1dcf8b0f",
   "metadata": {
    "scrolled": true
   },
   "outputs": [
    {
     "name": "stdout",
     "output_type": "stream",
     "text": [
      "You're a teenager\n"
     ]
    }
   ],
   "source": [
    "age = 15\n",
    "if(age>=13) and (age<=19):\n",
    "    print(\"You're a teenager.\")\n",
    "else:\n",
    "    print(\"You're not a teenager.\")"
   ]
  },
  {
   "cell_type": "code",
   "execution_count": null,
   "id": "730ab178",
   "metadata": {},
   "outputs": [],
   "source": []
  }
 ],
 "metadata": {
  "kernelspec": {
   "display_name": "Python 3",
   "language": "python",
   "name": "python3"
  },
  "language_info": {
   "codemirror_mode": {
    "name": "ipython",
    "version": 3
   },
   "file_extension": ".py",
   "mimetype": "text/x-python",
   "name": "python",
   "nbconvert_exporter": "python",
   "pygments_lexer": "ipython3",
   "version": "3.8.8"
  }
 },
 "nbformat": 4,
 "nbformat_minor": 5
}

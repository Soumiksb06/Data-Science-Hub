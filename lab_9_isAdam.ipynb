{
 "cells": [
  {
   "cell_type": "code",
   "execution_count": 100,
   "id": "a25c1c36",
   "metadata": {},
   "outputs": [
    {
     "data": {
      "text/plain": [
       "True"
      ]
     },
     "execution_count": 100,
     "metadata": {},
     "output_type": "execute_result"
    }
   ],
   "source": [
    "def isAdam(num):\n",
    "    if '.'in str(num):\n",
    "        print(\"Float entered! Enter only an integer!\")\n",
    "    else:\n",
    "        if str(num**2)==str(int(str(num)[::-1])**2)[::-1]:\n",
    "            return True\n",
    "        else:\n",
    "            return False\n",
    "isAdam(12)  "
   ]
  },
  {
   "cell_type": "code",
   "execution_count": 101,
   "id": "87e12264",
   "metadata": {},
   "outputs": [
    {
     "name": "stdout",
     "output_type": "stream",
     "text": [
      "1: This is an Adam number!\n",
      "2: This is an Adam number!\n",
      "3: This is an Adam number!\n",
      "4: Not an Adam number!\n",
      "5: Not an Adam number!\n",
      "6: Not an Adam number!\n",
      "7: Not an Adam number!\n",
      "8: Not an Adam number!\n",
      "9: Not an Adam number!\n",
      "10: Not an Adam number!\n",
      "11: This is an Adam number!\n",
      "12: This is an Adam number!\n",
      "13: This is an Adam number!\n",
      "14: Not an Adam number!\n",
      "15: Not an Adam number!\n",
      "16: Not an Adam number!\n",
      "17: Not an Adam number!\n",
      "18: Not an Adam number!\n",
      "19: Not an Adam number!\n",
      "20: Not an Adam number!\n"
     ]
    }
   ],
   "source": [
    "def adamNosInRange(num1,num2):\n",
    "    for i in range(num1,num2+1):\n",
    "        if isAdam(i)==True:\n",
    "            print(f\"{i}: This is an Adam number!\")\n",
    "        else:\n",
    "            print(f\"{i}: Not an Adam number!\")\n",
    "adamNosInRange(1,20)"
   ]
  },
  {
   "cell_type": "code",
   "execution_count": null,
   "id": "81da4ddf",
   "metadata": {},
   "outputs": [],
   "source": []
  }
 ],
 "metadata": {
  "kernelspec": {
   "display_name": "Python 3 (ipykernel)",
   "language": "python",
   "name": "python3"
  },
  "language_info": {
   "codemirror_mode": {
    "name": "ipython",
    "version": 3
   },
   "file_extension": ".py",
   "mimetype": "text/x-python",
   "name": "python",
   "nbconvert_exporter": "python",
   "pygments_lexer": "ipython3",
   "version": "3.11.4"
  }
 },
 "nbformat": 4,
 "nbformat_minor": 5
}

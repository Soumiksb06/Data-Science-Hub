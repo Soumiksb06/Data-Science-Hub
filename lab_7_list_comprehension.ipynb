{
 "cells": [
  {
   "cell_type": "code",
   "execution_count": 7,
   "id": "0c3b4c5b",
   "metadata": {},
   "outputs": [
    {
     "data": {
      "text/plain": [
       "[1, 2, 3, 4, 5, 6, 7, 8, 9, 10]"
      ]
     },
     "execution_count": 7,
     "metadata": {},
     "output_type": "execute_result"
    }
   ],
   "source": [
    "S=[]\n",
    "for i in range (1,11):\n",
    "    S.append(i)\n",
    "S"
   ]
  },
  {
   "cell_type": "code",
   "execution_count": 10,
   "id": "69d5298e",
   "metadata": {},
   "outputs": [
    {
     "data": {
      "text/plain": [
       "[1, 2, 3, 4, 5, 6, 7, 8, 9, 10]"
      ]
     },
     "execution_count": 10,
     "metadata": {},
     "output_type": "execute_result"
    }
   ],
   "source": [
    "S0=[i for i in range (1,11)]\n",
    "S0"
   ]
  },
  {
   "cell_type": "code",
   "execution_count": 11,
   "id": "e1e42110",
   "metadata": {},
   "outputs": [
    {
     "data": {
      "text/plain": [
       "[2, 4, 6, 8, 10]"
      ]
     },
     "execution_count": 11,
     "metadata": {},
     "output_type": "execute_result"
    }
   ],
   "source": [
    "EvenS=[i for i in range (1,11) if i%2==0]\n",
    "EvenS"
   ]
  },
  {
   "cell_type": "code",
   "execution_count": null,
   "id": "00de3341",
   "metadata": {},
   "outputs": [],
   "source": [
    "E2O=[]"
   ]
  },
  {
   "cell_type": "code",
   "execution_count": 33,
   "id": "4563663a",
   "metadata": {},
   "outputs": [],
   "source": [
    "N=[3,5,76,3,6,7,3,6,76,13,76,4,86,90,45,6]\n",
    "len(N)\n",
    "M=[]"
   ]
  },
  {
   "cell_type": "code",
   "execution_count": 37,
   "id": "83a0f47a",
   "metadata": {},
   "outputs": [],
   "source": [
    "for i in N:\n",
    "    M.append(i)\n",
    "    if i==4:\n",
    "        break    \n",
    "    for j in N:\n",
    "        M.append(j)\n",
    "    if j==4:\n",
    "        break "
   ]
  },
  {
   "cell_type": "code",
   "execution_count": 35,
   "id": "e3bd7ed2",
   "metadata": {},
   "outputs": [
    {
     "data": {
      "text/plain": [
       "[3,\n",
       " 3,\n",
       " 5,\n",
       " 76,\n",
       " 3,\n",
       " 6,\n",
       " 7,\n",
       " 3,\n",
       " 6,\n",
       " 76,\n",
       " 13,\n",
       " 76,\n",
       " 4,\n",
       " 86,\n",
       " 90,\n",
       " 45,\n",
       " 6,\n",
       " 5,\n",
       " 3,\n",
       " 5,\n",
       " 76,\n",
       " 3,\n",
       " 6,\n",
       " 7,\n",
       " 3,\n",
       " 6,\n",
       " 76,\n",
       " 13,\n",
       " 76,\n",
       " 4,\n",
       " 86,\n",
       " 90,\n",
       " 45,\n",
       " 6,\n",
       " 76,\n",
       " 3,\n",
       " 5,\n",
       " 76,\n",
       " 3,\n",
       " 6,\n",
       " 7,\n",
       " 3,\n",
       " 6,\n",
       " 76,\n",
       " 13,\n",
       " 76,\n",
       " 4,\n",
       " 86,\n",
       " 90,\n",
       " 45,\n",
       " 6,\n",
       " 3,\n",
       " 3,\n",
       " 5,\n",
       " 76,\n",
       " 3,\n",
       " 6,\n",
       " 7,\n",
       " 3,\n",
       " 6,\n",
       " 76,\n",
       " 13,\n",
       " 76,\n",
       " 4,\n",
       " 86,\n",
       " 90,\n",
       " 45,\n",
       " 6,\n",
       " 6,\n",
       " 3,\n",
       " 5,\n",
       " 76,\n",
       " 3,\n",
       " 6,\n",
       " 7,\n",
       " 3,\n",
       " 6,\n",
       " 76,\n",
       " 13,\n",
       " 76,\n",
       " 4,\n",
       " 86,\n",
       " 90,\n",
       " 45,\n",
       " 6,\n",
       " 7,\n",
       " 3,\n",
       " 5,\n",
       " 76,\n",
       " 3,\n",
       " 6,\n",
       " 7,\n",
       " 3,\n",
       " 6,\n",
       " 76,\n",
       " 13,\n",
       " 76,\n",
       " 4,\n",
       " 86,\n",
       " 90,\n",
       " 45,\n",
       " 6,\n",
       " 3,\n",
       " 3,\n",
       " 5,\n",
       " 76,\n",
       " 3,\n",
       " 6,\n",
       " 7,\n",
       " 3,\n",
       " 6,\n",
       " 76,\n",
       " 13,\n",
       " 76,\n",
       " 4,\n",
       " 86,\n",
       " 90,\n",
       " 45,\n",
       " 6,\n",
       " 6,\n",
       " 3,\n",
       " 5,\n",
       " 76,\n",
       " 3,\n",
       " 6,\n",
       " 7,\n",
       " 3,\n",
       " 6,\n",
       " 76,\n",
       " 13,\n",
       " 76,\n",
       " 4,\n",
       " 86,\n",
       " 90,\n",
       " 45,\n",
       " 6,\n",
       " 76,\n",
       " 3,\n",
       " 5,\n",
       " 76,\n",
       " 3,\n",
       " 6,\n",
       " 7,\n",
       " 3,\n",
       " 6,\n",
       " 76,\n",
       " 13,\n",
       " 76,\n",
       " 4,\n",
       " 86,\n",
       " 90,\n",
       " 45,\n",
       " 6,\n",
       " 13,\n",
       " 3,\n",
       " 5,\n",
       " 76,\n",
       " 3,\n",
       " 6,\n",
       " 7,\n",
       " 3,\n",
       " 6,\n",
       " 76,\n",
       " 13,\n",
       " 76,\n",
       " 4,\n",
       " 86,\n",
       " 90,\n",
       " 45,\n",
       " 6,\n",
       " 76,\n",
       " 3,\n",
       " 5,\n",
       " 76,\n",
       " 3,\n",
       " 6,\n",
       " 7,\n",
       " 3,\n",
       " 6,\n",
       " 76,\n",
       " 13,\n",
       " 76,\n",
       " 4,\n",
       " 86,\n",
       " 90,\n",
       " 45,\n",
       " 6,\n",
       " 4]"
      ]
     },
     "execution_count": 35,
     "metadata": {},
     "output_type": "execute_result"
    }
   ],
   "source": [
    "M"
   ]
  },
  {
   "cell_type": "code",
   "execution_count": 38,
   "id": "eb8ec545",
   "metadata": {},
   "outputs": [
    {
     "data": {
      "text/plain": [
       "[[1, 2, 3, 4], [5, 6, 7, 8], [9, 10, 11, 12], [13, 14, 15, 16]]"
      ]
     },
     "execution_count": 38,
     "metadata": {},
     "output_type": "execute_result"
    }
   ],
   "source": [
    "M=[]\n",
    "for i in range(4):\n",
    "    M.append([])\n",
    "    for j in range(1,5):\n",
    "        M[i].append(4*i+j)\n",
    "M"
   ]
  },
  {
   "cell_type": "code",
   "execution_count": 76,
   "id": "814b64be",
   "metadata": {},
   "outputs": [
    {
     "data": {
      "text/plain": [
       "[[[0, 1, 2, 3], [1, 2, 3, 4], [2, 3, 4, 5], [3, 4, 5, 6]],\n",
       " [[1, 2, 3, 4], [2, 3, 4, 5], [3, 4, 5, 6], [4, 5, 6, 7]],\n",
       " [[2, 3, 4, 5], [3, 4, 5, 6], [4, 5, 6, 7], [5, 6, 7, 8]],\n",
       " [[3, 4, 5, 6], [4, 5, 6, 7], [5, 6, 7, 8], [6, 7, 8, 9]]]"
      ]
     },
     "execution_count": 76,
     "metadata": {},
     "output_type": "execute_result"
    }
   ],
   "source": [
    "M=[]\n",
    "for i in range(4):\n",
    "    M.append([])\n",
    "    for j in range(4):\n",
    "        M[i].append([])\n",
    "        for k in range(4):\n",
    "            M[i][j].append(i+j+k)\n",
    "M"
   ]
  },
  {
   "cell_type": "code",
   "execution_count": 67,
   "id": "12d873b0",
   "metadata": {},
   "outputs": [
    {
     "data": {
      "text/plain": [
       "[[5, 9, 13], [6, 10, 14], [7, 11, 15], [8, 12, 16]]"
      ]
     },
     "execution_count": 67,
     "metadata": {},
     "output_type": "execute_result"
    }
   ],
   "source": [
    "M1=[]\n",
    "for i in range(4):\n",
    "    M1.append([])\n",
    "    for j in range(1,4):\n",
    "        M1[i].append((i+1)+4*j)\n",
    "M1"
   ]
  },
  {
   "cell_type": "code",
   "execution_count": 68,
   "id": "a711d863",
   "metadata": {},
   "outputs": [
    {
     "data": {
      "text/plain": [
       "[[1, 2, 3, 4], [5, 6, 7, 8], [9, 10, 11, 12], [13, 14, 15, 16]]"
      ]
     },
     "execution_count": 68,
     "metadata": {},
     "output_type": "execute_result"
    }
   ],
   "source": [
    "[[4*i+j for j in range (1,5)] for i in range(4)]"
   ]
  },
  {
   "cell_type": "code",
   "execution_count": 73,
   "id": "e5ac6c41",
   "metadata": {},
   "outputs": [
    {
     "data": {
      "text/plain": [
       "[[1, 5, 9], [2, 6, 10], [3, 7, 11], [4, 8, 12]]"
      ]
     },
     "execution_count": 73,
     "metadata": {},
     "output_type": "execute_result"
    }
   ],
   "source": [
    "[[(i+1)+4*j for j in range(3)] for i in range(4)]"
   ]
  },
  {
   "cell_type": "code",
   "execution_count": null,
   "id": "18a13d62",
   "metadata": {},
   "outputs": [],
   "source": [
    "[[(i+1)+4*j for j in range(3)] for i in range(4)]"
   ]
  }
 ],
 "metadata": {
  "kernelspec": {
   "display_name": "Python 3 (ipykernel)",
   "language": "python",
   "name": "python3"
  },
  "language_info": {
   "codemirror_mode": {
    "name": "ipython",
    "version": 3
   },
   "file_extension": ".py",
   "mimetype": "text/x-python",
   "name": "python",
   "nbconvert_exporter": "python",
   "pygments_lexer": "ipython3",
   "version": "3.11.4"
  }
 },
 "nbformat": 4,
 "nbformat_minor": 5
}

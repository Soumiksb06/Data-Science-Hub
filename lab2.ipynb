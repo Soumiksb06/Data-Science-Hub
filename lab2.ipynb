{
 "cells": [
  {
   "cell_type": "code",
   "execution_count": 8,
   "id": "55bd0256",
   "metadata": {},
   "outputs": [],
   "source": [
    "test=100"
   ]
  },
  {
   "cell_type": "code",
   "execution_count": 9,
   "id": "dd024522",
   "metadata": {},
   "outputs": [
    {
     "data": {
      "text/plain": [
       "2889886684624"
      ]
     },
     "execution_count": 9,
     "metadata": {},
     "output_type": "execute_result"
    }
   ],
   "source": [
    "id(test)"
   ]
  },
  {
   "cell_type": "code",
   "execution_count": 10,
   "id": "f53d6883",
   "metadata": {},
   "outputs": [
    {
     "data": {
      "text/plain": [
       "int"
      ]
     },
     "execution_count": 10,
     "metadata": {},
     "output_type": "execute_result"
    }
   ],
   "source": [
    "type(test)"
   ]
  },
  {
   "cell_type": "code",
   "execution_count": 13,
   "id": "18fd9d3c",
   "metadata": {},
   "outputs": [
    {
     "data": {
      "text/plain": [
       "24244444444444.44"
      ]
     },
     "execution_count": 13,
     "metadata": {},
     "output_type": "execute_result"
    }
   ],
   "source": [
    "test2=24244444444444.442\n",
    "test2"
   ]
  },
  {
   "cell_type": "code",
   "execution_count": 15,
   "id": "fbca33b8",
   "metadata": {},
   "outputs": [
    {
     "data": {
      "text/plain": [
       "list"
      ]
     },
     "execution_count": 15,
     "metadata": {},
     "output_type": "execute_result"
    }
   ],
   "source": [
    "test3=[12,265,84,6]\n",
    "type(test3)"
   ]
  },
  {
   "cell_type": "code",
   "execution_count": 16,
   "id": "1a064db3",
   "metadata": {},
   "outputs": [
    {
     "data": {
      "text/plain": [
       "24244444444444.44"
      ]
     },
     "execution_count": 16,
     "metadata": {},
     "output_type": "execute_result"
    }
   ],
   "source": [
    "test\n",
    "test2"
   ]
  },
  {
   "cell_type": "code",
   "execution_count": 17,
   "id": "77ded76c",
   "metadata": {},
   "outputs": [
    {
     "name": "stdout",
     "output_type": "stream",
     "text": [
      "100\n",
      "24244444444444.44\n"
     ]
    }
   ],
   "source": [
    "print(test)\n",
    "print(test2)"
   ]
  },
  {
   "cell_type": "code",
   "execution_count": 20,
   "id": "1ced6029",
   "metadata": {},
   "outputs": [
    {
     "name": "stdout",
     "output_type": "stream",
     "text": [
      "100\t24244444444444.44\n"
     ]
    }
   ],
   "source": [
    "print(test, end='\\t')\n",
    "print(test2)"
   ]
  },
  {
   "cell_type": "code",
   "execution_count": 24,
   "id": "608a1fff",
   "metadata": {},
   "outputs": [
    {
     "name": "stdout",
     "output_type": "stream",
     "text": [
      "Okay...\n"
     ]
    },
    {
     "data": {
      "text/plain": [
       "'\\nTHIS IS MULTILINE COMMENT\\nLINE 2\\nLINE 3\\n'"
      ]
     },
     "execution_count": 24,
     "metadata": {},
     "output_type": "execute_result"
    }
   ],
   "source": [
    "print(\"Okay...\")\n",
    "'''\n",
    "THIS IS MULTILINE COMMENT\n",
    "LINE 2\n",
    "LINE 3\n",
    "'''"
   ]
  },
  {
   "cell_type": "code",
   "execution_count": 25,
   "id": "577b0d37",
   "metadata": {},
   "outputs": [
    {
     "name": "stdout",
     "output_type": "stream",
     "text": [
      "Okay...\n"
     ]
    },
    {
     "data": {
      "text/plain": [
       "100"
      ]
     },
     "execution_count": 25,
     "metadata": {},
     "output_type": "execute_result"
    }
   ],
   "source": [
    "print(\"Okay...\")\n",
    "'''\n",
    "THIS IS MULTILINE COMMENT\n",
    "LINE 2\n",
    "LINE 3\n",
    "'''\n",
    "test"
   ]
  },
  {
   "cell_type": "code",
   "execution_count": 30,
   "id": "5838ca5c",
   "metadata": {},
   "outputs": [
    {
     "name": "stdout",
     "output_type": "stream",
     "text": [
      "6\n",
      "Hello World!\n"
     ]
    }
   ],
   "source": [
    "x = 30 - 25 # A comment\n",
    "y = \"Hello\" # Another comment\n",
    "z = 1.34\n",
    "if z == 1.34 or y == \" Hello \":\n",
    "    x = x + 1\n",
    "    y = y + \" World!\" # String Concatenation\n",
    "print ( x )\n",
    "print ( y )"
   ]
  },
  {
   "cell_type": "code",
   "execution_count": 34,
   "id": "0023ae0b",
   "metadata": {},
   "outputs": [
    {
     "name": "stdout",
     "output_type": "stream",
     "text": [
      "10\n",
      "5\n"
     ]
    }
   ],
   "source": [
    "a=10\n",
    "b=5\n",
    "if a==10:\n",
    "    print(a)\n",
    "    print(b)"
   ]
  },
  {
   "cell_type": "code",
   "execution_count": 38,
   "id": "802e2c9e",
   "metadata": {},
   "outputs": [],
   "source": [
    "a=15\n",
    "b=5\n",
    "if a==10:\n",
    "    print(a)\n",
    "    print(b)"
   ]
  },
  {
   "cell_type": "code",
   "execution_count": 51,
   "id": "e5b89e4f",
   "metadata": {},
   "outputs": [
    {
     "name": "stdout",
     "output_type": "stream",
     "text": [
      "10\n"
     ]
    }
   ],
   "source": [
    "a=10\n",
    "b=5\n",
    "if a==10:\n",
    "    print(a)\n",
    "   #print(b)"
   ]
  },
  {
   "cell_type": "code",
   "execution_count": 58,
   "id": "b3ed0ef8",
   "metadata": {},
   "outputs": [
    {
     "name": "stdout",
     "output_type": "stream",
     "text": [
      "100\n",
      "4334\n",
      "4\n"
     ]
    }
   ],
   "source": [
    "x , y , z = 100,4334,4\n",
    "print ( x )\n",
    "print ( y )\n",
    "print ( z )"
   ]
  },
  {
   "cell_type": "code",
   "execution_count": 62,
   "id": "fa61ef25",
   "metadata": {},
   "outputs": [
    {
     "name": "stdout",
     "output_type": "stream",
     "text": [
      "<class 'int'>\n",
      "<class 'float'>\n",
      "<class 'float'>\n",
      "<class 'complex'>\n"
     ]
    }
   ],
   "source": [
    "x = 349 # int\n",
    "y = 53.52 # float\n",
    "z = -232.23e100 # float in scientific notation\n",
    "w = 2j # complex\n",
    "print ( type ( x ) )\n",
    "print ( type ( y ) )\n",
    "print ( type ( z ) )\n",
    "print ( type ( w ) )"
   ]
  },
  {
   "cell_type": "code",
   "execution_count": 64,
   "id": "406af3f2",
   "metadata": {},
   "outputs": [
    {
     "name": "stdout",
     "output_type": "stream",
     "text": [
      "Enter whatever: byyaaaaaa123\n"
     ]
    },
    {
     "data": {
      "text/plain": [
       "str"
      ]
     },
     "execution_count": 64,
     "metadata": {},
     "output_type": "execute_result"
    }
   ],
   "source": [
    "c=input(\"Enter whatever: \")\n",
    "type(c)"
   ]
  },
  {
   "cell_type": "code",
   "execution_count": 67,
   "id": "b0920d66",
   "metadata": {},
   "outputs": [
    {
     "name": "stdout",
     "output_type": "stream",
     "text": [
      "Enter whatever integer: 56\n"
     ]
    },
    {
     "data": {
      "text/plain": [
       "int"
      ]
     },
     "execution_count": 67,
     "metadata": {},
     "output_type": "execute_result"
    }
   ],
   "source": [
    "d=int(input(\"Enter whatever integer: \"))\n",
    "type(d)"
   ]
  },
  {
   "cell_type": "code",
   "execution_count": 70,
   "id": "5336fee4",
   "metadata": {},
   "outputs": [
    {
     "name": "stdout",
     "output_type": "stream",
     "text": [
      "This is the example line\n",
      "Example of\n",
      "Phython strings\n",
      "with multiple lines 8 This is the fourth line\n"
     ]
    }
   ],
   "source": [
    "s1 = \"\"\"This is the example line\n",
    "Example of\n",
    "Phython strings\n",
    "with multiple lines 8 This is the fourth line\"\"\"\n",
    "print(s1)"
   ]
  },
  {
   "cell_type": "code",
   "execution_count": 87,
   "id": "6ef4c5fc",
   "metadata": {},
   "outputs": [
    {
     "name": "stdout",
     "output_type": "stream",
     "text": [
      "sing\n"
     ]
    }
   ],
   "source": [
    "s2='s t r i n g 2'\n",
    "print(s2[0], end='')\n",
    "print(s2[6],end='')\n",
    "print(s2[8],end='')\n",
    "print(s2[10])"
   ]
  },
  {
   "cell_type": "code",
   "execution_count": null,
   "id": "2adf38b5",
   "metadata": {},
   "outputs": [],
   "source": []
  }
 ],
 "metadata": {
  "kernelspec": {
   "display_name": "Python 3 (ipykernel)",
   "language": "python",
   "name": "python3"
  },
  "language_info": {
   "codemirror_mode": {
    "name": "ipython",
    "version": 3
   },
   "file_extension": ".py",
   "mimetype": "text/x-python",
   "name": "python",
   "nbconvert_exporter": "python",
   "pygments_lexer": "ipython3",
   "version": "3.9.7"
  }
 },
 "nbformat": 4,
 "nbformat_minor": 5
}

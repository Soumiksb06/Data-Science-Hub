{
 "cells": [
  {
   "cell_type": "code",
   "execution_count": 5,
   "id": "034bc72c",
   "metadata": {},
   "outputs": [
    {
     "name": "stdout",
     "output_type": "stream",
     "text": [
      "Enter a string: jhgeg23532@#$%\n",
      "No. of Alphabets=  5\n",
      "No. of Digits=  5\n",
      "No. of Special Characters=  4\n"
     ]
    }
   ],
   "source": [
    "S=input(\"Enter a string: \")\n",
    "A_count=[]\n",
    "D_count=[]\n",
    "C_count=[]\n",
    "for i in S:\n",
    "    if i.isalpha():\n",
    "        A_count.append(i)\n",
    "    elif i.isdigit():\n",
    "        D_count.append(i)\n",
    "    else:\n",
    "        C_count.append(i)\n",
    "print(\"No. of Alphabets= \",len(A_count))\n",
    "print(\"No. of Digits= \",len(D_count))\n",
    "print(\"No. of Special Characters= \",len(C_count))\n",
    "            \n"
   ]
  },
  {
   "cell_type": "code",
   "execution_count": 4,
   "id": "395bde3d",
   "metadata": {},
   "outputs": [
    {
     "name": "stdout",
     "output_type": "stream",
     "text": [
      "Enter a number: 0\n",
      "Entered number is 0!\n"
     ]
    }
   ],
   "source": [
    "N=int(input(\"Enter a number: \"))\n",
    "D=[]\n",
    "if N<0:\n",
    "    print(\"Entered number is negative, No positive divisors available!\")\n",
    "elif N>0:\n",
    "    for i in range(1, N):\n",
    "        if N%i==0:\n",
    "            if i>0:\n",
    "                D.append(i)\n",
    "    print(f\"the positive divisors of {N} are: \",D)\n",
    "else:\n",
    "    print(\"Entered number is 0!\")"
   ]
  },
  {
   "cell_type": "code",
   "execution_count": 40,
   "id": "3afc0881",
   "metadata": {},
   "outputs": [
    {
     "name": "stdout",
     "output_type": "stream",
     "text": [
      "Enter a integer: 123\n",
      "Sum of the digits of the number=  6\n"
     ]
    }
   ],
   "source": [
    "N1=input(\"Enter a integer: \")\n",
    "S=0\n",
    "for i in N1:\n",
    "    S=S+int(i)\n",
    "print(\"Sum of the digits of the number= \", S)"
   ]
  },
  {
   "cell_type": "code",
   "execution_count": 39,
   "id": "756aad7a",
   "metadata": {},
   "outputs": [
    {
     "name": "stdout",
     "output_type": "stream",
     "text": [
      "Enter a string: ABGRDSuygyug\n",
      "No. of Uppercase characters=  6\n",
      "No. of Lowercase characters=  6\n"
     ]
    }
   ],
   "source": [
    "S1=input(\"Enter a string: \")\n",
    "U=[]\n",
    "L=[]\n",
    "for i in S1:\n",
    "    if i.isupper():\n",
    "        U.append(i)\n",
    "    else:\n",
    "        L.append(i)\n",
    "print(\"No. of Uppercase characters= \",len(U))\n",
    "print(\"No. of Lowercase characters= \",len(L))"
   ]
  },
  {
   "cell_type": "code",
   "execution_count": 56,
   "id": "9b0987ae",
   "metadata": {},
   "outputs": [
    {
     "name": "stdout",
     "output_type": "stream",
     "text": [
      "Enter some integers(separated by commas): 23,45,66,87,90,1\n",
      "The even numbers are=  [66, 90]\n",
      "the max of Even list is=  90\n",
      "The odd numbers are=  [23, 45, 87, 1]\n",
      "the max of Odd list is=  87\n"
     ]
    }
   ],
   "source": [
    "S2=input(\"Enter some integers(separated by commas): \").split(',')\n",
    "Even=[]\n",
    "Odd=[]\n",
    "for i in S2:\n",
    "    if int(i)%2==0:\n",
    "        Even.append(int(i))\n",
    "    else:\n",
    "        Odd.append(int(i))\n",
    "print(\"The even numbers are= \", Even)\n",
    "print(\"the max of Even list is= \", max(Even))\n",
    "print(\"The odd numbers are= \", Odd)\n",
    "print(\"the max of Odd list is= \", max(Odd))"
   ]
  },
  {
   "cell_type": "code",
   "execution_count": 5,
   "id": "c8c8446a",
   "metadata": {},
   "outputs": [
    {
     "name": "stdout",
     "output_type": "stream",
     "text": [
      "Enter no. of rows: 3\n",
      "Enter no. of columns: 3\n",
      "Enter element of list 1: 1\n",
      "Enter element of list 1: 2\n",
      "Enter element of list 1: 3\n",
      "Enter element of list 1: 4\n",
      "Enter element of list 1: 5\n",
      "Enter element of list 1: 6\n",
      "Enter element of list 1: 7\n",
      "Enter element of list 1: 8\n",
      "Enter element of list 1: 9\n",
      "Enter element of list 2: 1\n",
      "Enter element of list 2: 2\n",
      "Enter element of list 2: 3\n",
      "Enter element of list 2: 4\n",
      "Enter element of list 2: 5\n",
      "Enter element of list 2: 6\n",
      "Enter element of list 2: 7\n",
      "Enter element of list 2: 8\n",
      "Enter element of list 2: 9\n",
      "[[1, 2, 3], [4, 5, 6], [7, 8, 9]]\n",
      "[[1, 2, 3], [4, 5, 6], [7, 8, 9]]\n",
      "addition : [[2, 4, 6], [8, 10, 12], [14, 16, 18]]\n",
      "substraction : [[0, 0, 0], [0, 0, 0], [0, 0, 0]]\n",
      "multiplication : [[1, 4, 9], [16, 25, 36], [49, 64, 81]]\n"
     ]
    }
   ],
   "source": [
    "m=int(input(\"Enter no. of rows: \"))\n",
    "n=int(input(\"Enter no. of columns: \"))\n",
    "\n",
    "L1=[[int(input(\"Enter element of list 1: \")) for i in range(m)] for j in range (n)]\n",
    "L2=[[int(input(\"Enter element of list 2: \")) for i in range(m)] for j in range (n)]\n",
    "  \n",
    "add=[]\n",
    "sub=[]\n",
    "mult=[]\n",
    "for k in range(m):\n",
    "    add.append([])\n",
    "    sub.append([])\n",
    "    mult.append([])\n",
    "    for l in range(n):\n",
    "        add[k].append(L1[k][l]+L2[k][l])\n",
    "        sub[k].append(L1[k][l]-L2[k][l])\n",
    "        mult[k].append(L1[k][l]*L2[k][l])\n",
    "\n",
    "print(L1)\n",
    "print(L2)\n",
    "print(\"addition :\" , add)\n",
    "print(\"substraction :\" , sub)\n",
    "print(\"multiplication :\" , mult)"
   ]
  },
  {
   "cell_type": "code",
   "execution_count": 13,
   "id": "08d9d768",
   "metadata": {},
   "outputs": [
    {
     "name": "stdout",
     "output_type": "stream",
     "text": [
      "Enter the number of rows: 2\n",
      "Enter the number of columns: 2\n",
      "Enter element at (1,1): 1\n",
      "Enter element at (1,2): 2\n",
      "Enter element at (2,1): 3\n",
      "Enter element at (2,2): 4\n",
      "Enter element at (1,1): 1\n",
      "Enter element at (1,2): 2\n",
      "Enter element at (2,1): 3\n",
      "Enter element at (2,2): 4\n",
      "Enter the Matrix name you want to view (L1, L2, or both separated by a space): L1 L2\n",
      "Matrix L1:\n",
      "[1, 2]\n",
      "[3, 4]\n",
      "Matrix L2:\n",
      "[1, 2]\n",
      "[3, 4]\n",
      "Enter the operation you want to perform on the two matrices (+/-/*): +\n",
      "Result of + operation:\n",
      "[2, 4]\n",
      "[6, 8]\n"
     ]
    }
   ],
   "source": [
    "def Matrix(m, n):\n",
    "    L = []\n",
    "    for i in range(m):\n",
    "        row = []\n",
    "        for j in range(n):\n",
    "            row.append(int(input(f\"Enter element at ({i+1},{j+1}): \")))\n",
    "        L.append(row)\n",
    "    return L\n",
    "\n",
    "r = int(input(\"Enter the number of rows: \"))\n",
    "c = int(input(\"Enter the number of columns: \"))\n",
    "\n",
    "L1 = Matrix(r, c)\n",
    "L2 = Matrix(r, c)\n",
    "\n",
    "def MatDisp():\n",
    "    y = input(\"Enter the Matrix name you want to view (L1, L2, or both separated by a space): \")\n",
    "    matrices_to_display = y.split()\n",
    "    \n",
    "    if 'L1' in matrices_to_display:\n",
    "        print(\"Matrix L1:\")\n",
    "        for row in L1:\n",
    "            print(row)\n",
    "    if 'L2' in matrices_to_display:\n",
    "        print(\"Matrix L2:\")\n",
    "        for row in L2:\n",
    "            print(row)\n",
    "    if 'L1' not in matrices_to_display and 'L2' not in matrices_to_display:\n",
    "        print(\"ERROR! Enter correct matrix name(s).\")\n",
    "\n",
    "MatDisp()\n",
    "\n",
    "def MatOp(a, b, op):\n",
    "    result = []\n",
    "    if op == '+':\n",
    "        for i in range(r):\n",
    "            row = []\n",
    "            for j in range(c):\n",
    "                row.append(a[i][j] + b[i][j])\n",
    "            result.append(row)\n",
    "    elif op == '-':\n",
    "        for i in range(r):\n",
    "            row = []\n",
    "            for j in range(c):\n",
    "                row.append(a[i][j] - b[i][j])\n",
    "            result.append(row)\n",
    "    elif op == '*':\n",
    "        for i in range(r):\n",
    "            row = []\n",
    "            for j in range(c):\n",
    "                row.append(a[i][j] * b[i][j])\n",
    "            result.append(row)\n",
    "    return result\n",
    "\n",
    "z = input(\"Enter the operation you want to perform on the two matrices (+/-/*): \")\n",
    "result_matrix = MatOp(L1, L2, z)\n",
    "print(f\"Result of {z} operation:\")\n",
    "for row in result_matrix:\n",
    "    print(row)\n"
   ]
  },
  {
   "cell_type": "code",
   "execution_count": null,
   "id": "08cb742f",
   "metadata": {},
   "outputs": [],
   "source": []
  }
 ],
 "metadata": {
  "kernelspec": {
   "display_name": "Python 3 (ipykernel)",
   "language": "python",
   "name": "python3"
  },
  "language_info": {
   "codemirror_mode": {
    "name": "ipython",
    "version": 3
   },
   "file_extension": ".py",
   "mimetype": "text/x-python",
   "name": "python",
   "nbconvert_exporter": "python",
   "pygments_lexer": "ipython3",
   "version": "3.11.4"
  }
 },
 "nbformat": 4,
 "nbformat_minor": 5
}

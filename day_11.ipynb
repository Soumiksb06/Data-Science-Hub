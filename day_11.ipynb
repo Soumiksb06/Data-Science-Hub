{
 "cells": [
  {
   "cell_type": "code",
   "execution_count": 29,
   "id": "ecbdfb62",
   "metadata": {},
   "outputs": [
    {
     "data": {
      "text/plain": [
       "13"
      ]
     },
     "execution_count": 29,
     "metadata": {},
     "output_type": "execute_result"
    }
   ],
   "source": [
    "def fib(n):\n",
    "    if n>1:\n",
    "        return fib(n-1)+fib(n-2)\n",
    "    else:\n",
    "        return n\n",
    "fib(7)"
   ]
  },
  {
   "cell_type": "code",
   "execution_count": 28,
   "id": "2f875973",
   "metadata": {
    "scrolled": true
   },
   "outputs": [
    {
     "name": "stdout",
     "output_type": "stream",
     "text": [
      "0\n",
      "1\n",
      "1\n",
      "2\n",
      "3\n",
      "5\n",
      "8\n"
     ]
    }
   ],
   "source": [
    "def fib_upto_n(n):\n",
    "    for i in range(n):\n",
    "        print(fib(i))\n",
    "fib_upto_n(7)"
   ]
  },
  {
   "cell_type": "code",
   "execution_count": 15,
   "id": "012d2b5d",
   "metadata": {},
   "outputs": [
    {
     "data": {
      "text/plain": [
       "([7, 22, 11, 34, 17, 52, 26, 13, 40, 20, 10, 5, 16, 8, 4, 2, 1],\n",
       " 'Steps taken= ',\n",
       " 17)"
      ]
     },
     "execution_count": 15,
     "metadata": {},
     "output_type": "execute_result"
    }
   ],
   "source": [
    "def collatz_norecur(n):\n",
    "    coll=[n]\n",
    "    while n>1:\n",
    "        if n%2==0:\n",
    "            n=n//2\n",
    "        else:\n",
    "            n=3*n+1\n",
    "        coll.append(n)\n",
    "    return coll, 'Steps taken= ' ,len(coll)\n",
    "collatz_norecur(7)"
   ]
  },
  {
   "cell_type": "code",
   "execution_count": 6,
   "id": "363bc119",
   "metadata": {},
   "outputs": [
    {
     "name": "stdout",
     "output_type": "stream",
     "text": [
      "[7, 22, 11, 34, 17, 52, 26, 13, 40, 20, 10, 5, 16, 8, 4, 2, 1] Steps taken = 16\n"
     ]
    }
   ],
   "source": [
    "def collatz(n):\n",
    "    if n == 1:\n",
    "        return [1]\n",
    "    next_n = n // 2 if n % 2 == 0 else 3 * n + 1\n",
    "    return [n] + collatz(next_n)\n",
    "\n",
    "result = collatz(7)\n",
    "steps = len(result) - 1\n",
    "print(result, 'Steps taken =', steps)\n"
   ]
  },
  {
   "cell_type": "code",
   "execution_count": null,
   "id": "928dbf21",
   "metadata": {},
   "outputs": [],
   "source": []
  }
 ],
 "metadata": {
  "kernelspec": {
   "display_name": "Python 3 (ipykernel)",
   "language": "python",
   "name": "python3"
  },
  "language_info": {
   "codemirror_mode": {
    "name": "ipython",
    "version": 3
   },
   "file_extension": ".py",
   "mimetype": "text/x-python",
   "name": "python",
   "nbconvert_exporter": "python",
   "pygments_lexer": "ipython3",
   "version": "3.11.4"
  }
 },
 "nbformat": 4,
 "nbformat_minor": 5
}

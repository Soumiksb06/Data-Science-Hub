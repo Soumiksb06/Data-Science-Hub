{
 "cells": [
  {
   "cell_type": "markdown",
   "id": "96221fbd-32e3-49a8-aef9-21570d1eaeb4",
   "metadata": {},
   "source": [
    "# Open and Close\n",
    "\n",
    "Open and close are special operations intended to get rid of small imperfections by performing erosions and dilations.\n",
    "- Open erodes first, and then dilates.\n",
    "- Close dilates first, and the erodes.\n",
    "\n",
    "Let's see the Open and Close operations in OpenCV."
   ]
  },
  {
   "cell_type": "code",
   "execution_count": null,
   "id": "39b5e510-57de-412f-ab01-6d6bafe3dc64",
   "metadata": {},
   "outputs": [],
   "source": [
    "import numpy as np\n",
    "import matplotlib.pyplot as plt\n",
    "import cv2\n",
    "from EC_CV import *\n",
    "%config InlineBackend.figure_formats = 'retina'\n",
    "from matplotlib import rcParams\n",
    "\n",
    "rcParams['figure.figsize'] = (20,8)\n"
   ]
  },
  {
   "cell_type": "code",
   "execution_count": null,
   "id": "f18af8d8-eb36-43c7-b1f3-070fec2f8285",
   "metadata": {},
   "outputs": [],
   "source": [
    "# Let's open a black and white picture\n",
    "\n",
    "img = plt.imread('shapes_n_dots.bmp')\n",
    "print(np.shape(img))\n",
    "plt.imshow(img,cmap='gray')\n"
   ]
  },
  {
   "cell_type": "code",
   "execution_count": null,
   "id": "981c32a4-9d4d-4a54-90aa-9e3df63ddaa6",
   "metadata": {},
   "outputs": [],
   "source": [
    "# Let's zoom in to see two special shapes\n",
    "\n",
    "plt.imshow(img[200:,300:510],cmap='gray')"
   ]
  },
  {
   "cell_type": "code",
   "execution_count": null,
   "id": "7381de2d-9046-4240-a090-d0b238aa4eeb",
   "metadata": {},
   "outputs": [],
   "source": [
    "# Now let's perform a 3x3 open\n",
    "\n",
    "kernel3 = np.ones((3,3),np.uint8)\n",
    "\n",
    "img2 = img\n",
    "img2 = cv2.morphologyEx(img2, cv2.MORPH_OPEN, kernel3)\n",
    "\n",
    "fig, ax = plt.subplots(1,2)\n",
    "ax[0].imshow(img,cmap='gray')\n",
    "ax[1].imshow(img2,cmap='gray')"
   ]
  },
  {
   "cell_type": "code",
   "execution_count": null,
   "id": "ca6cc28b-4602-44e3-a4e5-dd7a8c48e9fb",
   "metadata": {},
   "outputs": [],
   "source": [
    "# Now let's perform a 3x3 close\n",
    "\n",
    "img2 = cv2.morphologyEx(img2, cv2.MORPH_CLOSE, kernel3)\n",
    "plt.imshow(img2,cmap='gray')"
   ]
  },
  {
   "cell_type": "markdown",
   "id": "ff73d95f-0b02-4091-8c61-f685e72f2eab",
   "metadata": {},
   "source": [
    "# Now let's work with the 5 x 5 kernel "
   ]
  },
  {
   "cell_type": "code",
   "execution_count": null,
   "id": "be47ced4-b3cb-475b-985c-c93d119ecb53",
   "metadata": {},
   "outputs": [],
   "source": [
    "# Let's open once\n",
    "kernel5 = np.ones((5,5),np.uint8)\n",
    "img2 = img\n",
    "img2 = cv2.morphologyEx(img2, cv2.MORPH_OPEN, kernel5)\n",
    "plt.imshow(img2,cmap='gray')"
   ]
  },
  {
   "cell_type": "code",
   "execution_count": null,
   "id": "1aafe2e5-7c17-4313-bca0-eb4fc9504c26",
   "metadata": {},
   "outputs": [],
   "source": [
    "# Now let's perform a 5x5 close\n",
    "\n",
    "img2 = cv2.morphologyEx(img2, cv2.MORPH_CLOSE, kernel5)\n",
    "plt.imshow(img2,cmap='gray')\n"
   ]
  },
  {
   "cell_type": "code",
   "execution_count": null,
   "id": "b6f4157f-181e-4c8f-944a-a451b28bd431",
   "metadata": {},
   "outputs": [],
   "source": [
    "# Let's zoom in to see two special shapes\n",
    "\n",
    "fig, ax = plt.subplots(1,2)\n",
    "ax[0].imshow(img[200:,300:510],cmap='gray')\n",
    "ax[1].imshow(img2[200:,300:510],cmap='gray')"
   ]
  },
  {
   "cell_type": "code",
   "execution_count": null,
   "id": "9ed1225d-6f5c-443b-b8c8-216ce710b532",
   "metadata": {},
   "outputs": [],
   "source": [
    "# Now let's perform a 5x5 close first \n",
    "img2 = img\n",
    "img2 = cv2.morphologyEx(img2, cv2.MORPH_CLOSE, kernel5)\n",
    "\n",
    "# And *then* a 5x5 open \n",
    "img2 = cv2.morphologyEx(img2, cv2.MORPH_OPEN, kernel5)\n",
    "\n",
    "fig, ax = plt.subplots(1,2)\n",
    "ax[0].imshow(img[200:,300:510],cmap='gray')\n",
    "ax[1].imshow(img2[200:,300:510],cmap='gray')"
   ]
  }
 ],
 "metadata": {
  "kernelspec": {
   "display_name": "Python 3 (ipykernel)",
   "language": "python",
   "name": "python3"
  },
  "language_info": {
   "codemirror_mode": {
    "name": "ipython",
    "version": 3
   },
   "file_extension": ".py",
   "mimetype": "text/x-python",
   "name": "python",
   "nbconvert_exporter": "python",
   "pygments_lexer": "ipython3",
   "version": "3.9.12"
  }
 },
 "nbformat": 4,
 "nbformat_minor": 5
}

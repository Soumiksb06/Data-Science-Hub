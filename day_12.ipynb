{
 "cells": [
  {
   "cell_type": "code",
   "execution_count": 31,
   "id": "6bffd60f",
   "metadata": {},
   "outputs": [
    {
     "name": "stdout",
     "output_type": "stream",
     "text": [
      "2\n",
      "2\n",
      "2\n",
      "5\n",
      "5\n",
      "5\n"
     ]
    }
   ],
   "source": [
    "def primeFactors(n):\n",
    "    f=2\n",
    "    while n>int(n**0.5):\n",
    "        if n%f==0:\n",
    "            yield f\n",
    "            n= int(n/f)\n",
    "        else:\n",
    "            f+=1\n",
    "\n",
    "for i in primeFactors(1000):\n",
    "    print(i)"
   ]
  },
  {
   "cell_type": "code",
   "execution_count": 35,
   "id": "216128f1",
   "metadata": {},
   "outputs": [],
   "source": [
    "def prime_inf(no=2):\n",
    "    while True:\n",
    "        isPrime = True\n",
    "        for i in range(2,no//2):\n",
    "            if no%i==0:\n",
    "                isPrime=False\n",
    "                break\n",
    "        if isPrime:\n",
    "            yield no\n",
    "        no+=1\n",
    "p=prime_inf()"
   ]
  },
  {
   "cell_type": "code",
   "execution_count": 37,
   "id": "7231d669",
   "metadata": {},
   "outputs": [
    {
     "name": "stdout",
     "output_type": "stream",
     "text": [
      "541\n",
      "547\n",
      "557\n",
      "563\n",
      "569\n",
      "571\n",
      "577\n",
      "587\n",
      "593\n",
      "599\n",
      "601\n",
      "607\n",
      "613\n",
      "617\n",
      "619\n",
      "631\n",
      "641\n",
      "643\n",
      "647\n",
      "653\n",
      "659\n",
      "661\n",
      "673\n",
      "677\n",
      "683\n",
      "691\n",
      "701\n",
      "709\n",
      "719\n",
      "727\n",
      "733\n",
      "739\n",
      "743\n",
      "751\n",
      "757\n",
      "761\n",
      "769\n",
      "773\n",
      "787\n",
      "797\n",
      "809\n",
      "811\n",
      "821\n",
      "823\n",
      "827\n",
      "829\n",
      "839\n",
      "853\n",
      "857\n",
      "859\n",
      "863\n",
      "877\n",
      "881\n",
      "883\n",
      "887\n",
      "907\n",
      "911\n",
      "919\n",
      "929\n",
      "937\n",
      "941\n",
      "947\n",
      "953\n",
      "967\n",
      "971\n",
      "977\n",
      "983\n",
      "991\n",
      "997\n",
      "1009\n",
      "1013\n",
      "1019\n",
      "1021\n",
      "1031\n",
      "1033\n",
      "1039\n",
      "1049\n",
      "1051\n",
      "1061\n",
      "1063\n",
      "1069\n",
      "1087\n",
      "1091\n",
      "1093\n",
      "1097\n",
      "1103\n",
      "1109\n",
      "1117\n",
      "1123\n",
      "1129\n",
      "1151\n",
      "1153\n",
      "1163\n",
      "1171\n",
      "1181\n",
      "1187\n",
      "1193\n",
      "1201\n",
      "1213\n",
      "1217\n"
     ]
    }
   ],
   "source": [
    "for j in range(100):\n",
    "    print(next(p))"
   ]
  },
  {
   "cell_type": "code",
   "execution_count": 44,
   "id": "e1e7f2d5",
   "metadata": {},
   "outputs": [],
   "source": [
    "def genrange(*args):\n",
    "    if len(args)==0 or len(args)>3:\n",
    "        print(\"Error in the number of Arguments!\")\n",
    "        print(\"The function should have one, two or three Arguments!\")\n",
    "        return\n",
    "    elif len(args)==1:\n",
    "        b,a,n=args[0],0,1\n",
    "    elif len(args)==2:\n",
    "        a,b,n=args[0],args[1],1\n",
    "    elif len(args)==3:\n",
    "        a,b,n=args[0],args[1],args[2]\n",
    "        if a>b and n>0:\n",
    "            print(\"Error!\")\n",
    "        elif a<b and n<0:\n",
    "            print(\"Error!\")\n",
    "    v=a\n",
    "    if n>0:\n",
    "        while v<=b:\n",
    "            yield v\n",
    "            v+=n\n",
    "    elif n<0:\n",
    "        while v>=b:\n",
    "            yield v\n",
    "            v+=n"
   ]
  },
  {
   "cell_type": "code",
   "execution_count": 43,
   "id": "5063aaaa",
   "metadata": {},
   "outputs": [
    {
     "name": "stdout",
     "output_type": "stream",
     "text": [
      "8\n",
      "5\n",
      "2\n"
     ]
    }
   ],
   "source": [
    "for i in genrange(8,1,-3):\n",
    "    print(i)"
   ]
  },
  {
   "cell_type": "code",
   "execution_count": null,
   "id": "db12d0a6",
   "metadata": {},
   "outputs": [],
   "source": []
  }
 ],
 "metadata": {
  "kernelspec": {
   "display_name": "Python 3 (ipykernel)",
   "language": "python",
   "name": "python3"
  },
  "language_info": {
   "codemirror_mode": {
    "name": "ipython",
    "version": 3
   },
   "file_extension": ".py",
   "mimetype": "text/x-python",
   "name": "python",
   "nbconvert_exporter": "python",
   "pygments_lexer": "ipython3",
   "version": "3.11.4"
  }
 },
 "nbformat": 4,
 "nbformat_minor": 5
}

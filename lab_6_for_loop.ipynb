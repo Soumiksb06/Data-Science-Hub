{
 "cells": [
  {
   "cell_type": "code",
   "execution_count": 32,
   "id": "e5382f78",
   "metadata": {},
   "outputs": [
    {
     "name": "stdout",
     "output_type": "stream",
     "text": [
      "Enter some numbers: 2\n",
      "Enter some numbers: 4\n",
      "Enter some numbers: 45\n",
      "Enter some numbers: 56\n",
      "Enter some numbers: 65\n"
     ]
    },
    {
     "data": {
      "text/plain": [
       "[2, 4, 45, 56, 65]"
      ]
     },
     "execution_count": 32,
     "metadata": {},
     "output_type": "execute_result"
    }
   ],
   "source": [
    "n=5\n",
    "l=[]\n",
    "for i in range (0,n):\n",
    "    l.append(int(input(\"Enter some numbers: \")))\n",
    "l"
   ]
  },
  {
   "cell_type": "code",
   "execution_count": 30,
   "id": "82acb961",
   "metadata": {},
   "outputs": [
    {
     "name": "stdout",
     "output_type": "stream",
     "text": [
      "\f",
      "\n"
     ]
    }
   ],
   "source": [
    "clear(l)"
   ]
  },
  {
   "cell_type": "code",
   "execution_count": 33,
   "id": "2cee003c",
   "metadata": {},
   "outputs": [
    {
     "name": "stdout",
     "output_type": "stream",
     "text": [
      "[2, 4, 56]\n",
      "[45, 65]\n"
     ]
    }
   ],
   "source": [
    "evenNos=[]\n",
    "oddNos=[]\n",
    "for n in l:\n",
    "    if n%2==0:\n",
    "        evenNos.append(n)\n",
    "    else:\n",
    "        oddNos.append(n)\n",
    "print(evenNos)\n",
    "print(oddNos)"
   ]
  },
  {
   "cell_type": "code",
   "execution_count": 82,
   "id": "34d29000",
   "metadata": {},
   "outputs": [
    {
     "name": "stdout",
     "output_type": "stream",
     "text": [
      "Enter a number to find prime number upto: 17\n",
      "[3, 5, 7, 9, 11, 13, 15, 17]\n"
     ]
    }
   ],
   "source": [
    "n=int(input(\"Enter a number to find prime number upto: \"))\n",
    "prime=[]\n",
    "for i in range (2,n+1):\n",
    "    for j in range (2,i):\n",
    "        if i%j==0:\n",
    "            break\n",
    "        else:\n",
    "            prime.append(i)\n",
    "        break\n",
    "print(prime)  "
   ]
  },
  {
   "cell_type": "code",
   "execution_count": 74,
   "id": "c554b7cd",
   "metadata": {},
   "outputs": [
    {
     "name": "stdout",
     "output_type": "stream",
     "text": [
      "Enter a number to find prime number upto: 17\n",
      "(2, 3, 5, 7, 11, 13, 17)\n"
     ]
    }
   ],
   "source": [
    "n=int(input(\"Enter a number to find prime number upto: \"))\n",
    "if n<=1:\n",
    "    print(\"Invalid input\")\n",
    "else:\n",
    "    prime=(2,)\n",
    "    for i in range (3,n+1):\n",
    "        for j in range (2,i):\n",
    "            if i%j==0:\n",
    "                break\n",
    "        else:\n",
    "            prime = prime+(i,)\n",
    "print(prime)  "
   ]
  },
  {
   "cell_type": "code",
   "execution_count": 81,
   "id": "1c90a939",
   "metadata": {},
   "outputs": [],
   "source": [
    "del(prime)"
   ]
  },
  {
   "cell_type": "code",
   "execution_count": 96,
   "id": "92cb6a6c",
   "metadata": {},
   "outputs": [
    {
     "name": "stdout",
     "output_type": "stream",
     "text": [
      "3\n",
      "2\n"
     ]
    }
   ],
   "source": [
    "n='32'\n",
    "n[::-1]\n",
    "n.isdigit()\n",
    "for i in n:\n",
    "    if i.isdigit()==True:\n",
    "        print(i)"
   ]
  },
  {
   "cell_type": "code",
   "execution_count": 91,
   "id": "468c09ee",
   "metadata": {},
   "outputs": [
    {
     "name": "stdout",
     "output_type": "stream",
     "text": [
      "Enter a string: abc123\n"
     ]
    },
    {
     "ename": "ValueError",
     "evalue": "invalid literal for int() with base 10: 'a'",
     "output_type": "error",
     "traceback": [
      "\u001b[1;31m---------------------------------------------------------------------------\u001b[0m",
      "\u001b[1;31mValueError\u001b[0m                                Traceback (most recent call last)",
      "\u001b[1;32mC:\\Users\\2383FA~1\\AppData\\Local\\Temp/ipykernel_4500/605234206.py\u001b[0m in \u001b[0;36m<module>\u001b[1;34m\u001b[0m\n\u001b[0;32m      1\u001b[0m \u001b[0ms\u001b[0m\u001b[1;33m=\u001b[0m\u001b[0minput\u001b[0m\u001b[1;33m(\u001b[0m\u001b[1;34m\"Enter a string: \"\u001b[0m\u001b[1;33m)\u001b[0m\u001b[1;33m\u001b[0m\u001b[1;33m\u001b[0m\u001b[0m\n\u001b[0;32m      2\u001b[0m \u001b[1;32mfor\u001b[0m \u001b[0mi\u001b[0m \u001b[1;32min\u001b[0m \u001b[0ms\u001b[0m\u001b[1;33m:\u001b[0m\u001b[1;33m\u001b[0m\u001b[1;33m\u001b[0m\u001b[0m\n\u001b[1;32m----> 3\u001b[1;33m     \u001b[1;32mif\u001b[0m \u001b[0mint\u001b[0m\u001b[1;33m(\u001b[0m\u001b[0mi\u001b[0m\u001b[1;33m)\u001b[0m\u001b[1;33m.\u001b[0m\u001b[0misdigit\u001b[0m\u001b[1;33m(\u001b[0m\u001b[1;33m)\u001b[0m\u001b[1;33m==\u001b[0m\u001b[1;32mTrue\u001b[0m\u001b[1;33m:\u001b[0m\u001b[1;33m\u001b[0m\u001b[1;33m\u001b[0m\u001b[0m\n\u001b[0m\u001b[0;32m      4\u001b[0m         \u001b[0ms\u001b[0m\u001b[1;33m[\u001b[0m\u001b[0mi\u001b[0m\u001b[1;33m]\u001b[0m\u001b[1;33m=\u001b[0m\u001b[0ms\u001b[0m\u001b[1;33m[\u001b[0m\u001b[1;33m:\u001b[0m\u001b[1;33m:\u001b[0m\u001b[1;33m-\u001b[0m\u001b[1;36m1\u001b[0m\u001b[1;33m]\u001b[0m\u001b[1;33m\u001b[0m\u001b[1;33m\u001b[0m\u001b[0m\n\u001b[0;32m      5\u001b[0m \u001b[0mprint\u001b[0m\u001b[1;33m(\u001b[0m\u001b[0ms\u001b[0m\u001b[1;33m)\u001b[0m\u001b[1;33m\u001b[0m\u001b[1;33m\u001b[0m\u001b[0m\n",
      "\u001b[1;31mValueError\u001b[0m: invalid literal for int() with base 10: 'a'"
     ]
    }
   ],
   "source": [
    "s=input(\"Enter a string: \")\n",
    "for i in s:\n",
    "    if i.isdigit()==True:\n",
    "        s[i]=s[::-1]\n",
    "print(s)\n",
    "        "
   ]
  },
  {
   "cell_type": "code",
   "execution_count": null,
   "id": "1426fb13",
   "metadata": {},
   "outputs": [],
   "source": []
  }
 ],
 "metadata": {
  "kernelspec": {
   "display_name": "Python 3 (ipykernel)",
   "language": "python",
   "name": "python3"
  },
  "language_info": {
   "codemirror_mode": {
    "name": "ipython",
    "version": 3
   },
   "file_extension": ".py",
   "mimetype": "text/x-python",
   "name": "python",
   "nbconvert_exporter": "python",
   "pygments_lexer": "ipython3",
   "version": "3.11.4"
  }
 },
 "nbformat": 4,
 "nbformat_minor": 5
}

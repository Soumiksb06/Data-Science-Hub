{
 "cells": [
  {
   "cell_type": "markdown",
   "id": "96221fbd-32e3-49a8-aef9-21570d1eaeb4",
   "metadata": {},
   "source": [
    "# Gaussian Filters\n",
    "While average filters calculate the average in the neighborhood of the pixel of interest, a gaussian filter calculates a weighted average using a kernel with values that match the gaussian bell curve.\n",
    "Here's a 3x3 gaussian kernel:\n",
    "\n",
    "$$\n",
    "\\begin{bmatrix} \n",
    "1 & 2 & 1  \\\\\n",
    "2 & 4 & 2 \\\\ \n",
    "1 & 2 & 1 \n",
    "\\end{bmatrix} \n",
    "* {1\\over16}\n",
    "$$"
   ]
  },
  {
   "cell_type": "code",
   "execution_count": null,
   "id": "39b5e510-57de-412f-ab01-6d6bafe3dc64",
   "metadata": {},
   "outputs": [],
   "source": [
    "# Let's work with the picture of a house\n",
    "\n",
    "import numpy as np\n",
    "import matplotlib.pyplot as plt\n",
    "%config InlineBackend.figure_formats = 'retina'\n",
    "from matplotlib import rcParams\n",
    "import cv2\n",
    "\n",
    "rcParams['figure.figsize'] = 20,8\n",
    "\n",
    "img = plt.imread('house.jpg')\n",
    "plt.axis(\"off\")\n",
    "plt.imshow(img)"
   ]
  },
  {
   "cell_type": "code",
   "execution_count": null,
   "id": "dbd59a91-588a-407a-9605-12f97a63700c",
   "metadata": {},
   "outputs": [],
   "source": [
    "# OpenCV's GaussianBlur function works with color and grayscale images\n",
    "\n",
    "blurred = cv2.GaussianBlur(img,(7,7),cv2.BORDER_DEFAULT)\n",
    "plt.imshow(blurred)"
   ]
  },
  {
   "cell_type": "code",
   "execution_count": null,
   "id": "c26ef4f4-a02b-431a-b4c4-a28615b1867c",
   "metadata": {},
   "outputs": [],
   "source": [
    "# Now let's see all 3 blur filters at once\n",
    "\n",
    "rcParams['figure.figsize'] = 18,14\n",
    "kernel = np.ones((15, 15), np.float32) / 225\n",
    "blur1 = cv2.medianBlur(img,15)\n",
    "blur2 = cv2.filter2D(src=img, ddepth=-1, kernel=kernel)\n",
    "blur3 = cv2.GaussianBlur(img,(15,15),cv2.BORDER_DEFAULT)\n",
    "titles = ['Original Image', 'Median Filter', 'Average Filter', 'Gaussian Filter']\n",
    "images = [img, blur1, blur2, blur3]\n",
    "for i in range(4):\n",
    "    plt.subplot(2,2,i+1),plt.imshow(images[i])\n",
    "    plt.title(titles[i])\n",
    "    plt.xticks([]),plt.yticks([])\n",
    "plt.show()"
   ]
  },
  {
   "cell_type": "code",
   "execution_count": null,
   "id": "18705bc3-7c2e-418e-a605-abc4920ca622",
   "metadata": {},
   "outputs": [],
   "source": [
    "# Let's zoom in to see the main entrance. \n",
    "\n",
    "rcParams['figure.figsize'] = 20, 12\n",
    "\n",
    "fig, ax = plt.subplots(1,2)\n",
    "ax[0].imshow(blur2[200:550,150:450])\n",
    "ax[1].imshow(blur3[200:550,150:450])"
   ]
  }
 ],
 "metadata": {
  "kernelspec": {
   "display_name": "Python 3 (ipykernel)",
   "language": "python",
   "name": "python3"
  },
  "language_info": {
   "codemirror_mode": {
    "name": "ipython",
    "version": 3
   },
   "file_extension": ".py",
   "mimetype": "text/x-python",
   "name": "python",
   "nbconvert_exporter": "python",
   "pygments_lexer": "ipython3",
   "version": "3.9.13"
  }
 },
 "nbformat": 4,
 "nbformat_minor": 5
}

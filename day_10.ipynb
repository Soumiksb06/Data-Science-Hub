{
 "cells": [
  {
   "cell_type": "code",
   "execution_count": null,
   "id": "20121fec",
   "metadata": {},
   "outputs": [],
   "source": [
    "def Matrix(m,n):\n",
    "    for i in range (2):\n",
    "        L=[[int(input(f\"Enter element of list: \")) for i in range(m)] for j in range (n)]\n",
    "        return L\n",
    "r=int(input(\"Enter no. of rows: \"))\n",
    "c=int(input(\"Enter no. of columns: \"))\n",
    "\n",
    "L1=Matrix(r,c)\n",
    "L2=Matrix(r,c)\n",
    "\n",
    "def MatDisp():\n",
    "    y=input(\"Enter the Matrix name you want to view: \")\n",
    "    if y=='L1': \n",
    "        print(L1)\n",
    "    elif y=='L2':\n",
    "        print(L2)\n",
    "    else:\n",
    "        print(\"ERROR! Enter correct matrix name!\")\n",
    "MatDisp()\n",
    "\n",
    "def MatOp(a,b,op):\n",
    "    add=[]\n",
    "    sub=[]\n",
    "    mult=[]\n",
    "    if z=='+':\n",
    "        for k in range(r):\n",
    "            add.append([])\n",
    "            for l in range(c):\n",
    "                add[k].append(L1[k][l]+L2[k][l])\n",
    "        print(add)\n",
    "\n",
    "    elif z=='-':       \n",
    "        for k in range(r):\n",
    "            sub.append([])\n",
    "            for l in range(c):\n",
    "                sub[k].append(L1[k][l]-L2[k][l])\n",
    "        print(sub)\n",
    "    elif z=='*':\n",
    "        for k in range(r):\n",
    "            mult.append([])\n",
    "            for l in range(c):\n",
    "                mult[k].append(L1[k][l]*L2[k][l])\n",
    "        print(mult)\n",
    "z=input(\"Enter the operation you want to perform on the two matrices(+/-/*): \")             \n",
    "MatOp(L1,L2,z)    "
   ]
  }
 ],
 "metadata": {
  "kernelspec": {
   "display_name": "Python 3 (ipykernel)",
   "language": "python",
   "name": "python3"
  },
  "language_info": {
   "codemirror_mode": {
    "name": "ipython",
    "version": 3
   },
   "file_extension": ".py",
   "mimetype": "text/x-python",
   "name": "python",
   "nbconvert_exporter": "python",
   "pygments_lexer": "ipython3",
   "version": "3.11.4"
  }
 },
 "nbformat": 4,
 "nbformat_minor": 5
}

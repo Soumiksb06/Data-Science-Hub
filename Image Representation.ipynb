{
 "cells": [
  {
   "cell_type": "markdown",
   "id": "7881fc0c",
   "metadata": {},
   "source": [
    "# Image Representation\n",
    "Raster images are represented as matrices of pixels."
   ]
  },
  {
   "cell_type": "code",
   "execution_count": 2,
   "id": "82c3443d",
   "metadata": {},
   "outputs": [
    {
     "data": {
      "text/plain": [
       "<matplotlib.image.AxesImage at 0x1dae0d46e80>"
      ]
     },
     "execution_count": 2,
     "metadata": {},
     "output_type": "execute_result"
    },
    {
     "data": {
      "image/png": "[encoded data removed]",
      "text/plain": [
       "<Figure size 432x288 with 1 Axes>"
      ]
     },
     "metadata": {
      "image/png": {
       "height": 252,
       "width": 271
      },
      "needs_background": "light"
     },
     "output_type": "display_data"
    }
   ],
   "source": [
    "# Let's create a simple 3x3 Grayscale image.\n",
    "# Each pixel is a number (0-255) representing intensity.\n",
    "\n",
    "import numpy as np\n",
    "import matplotlib.pyplot as plt\n",
    "%config InlineBackend.figure_formats = ['retina']\n",
    "\n",
    "img = np.array([[   0, 255,   0],   #   black,  white,     black\n",
    "                [  50, 200,  50],   #    dark,  light,      dark\n",
    "                [ 110, 127, 140]])  # mid-dark,   mid, mid-light\n",
    "\n",
    "plt.imshow(img, cmap='gray')"
   ]
  },
  {
   "cell_type": "code",
   "execution_count": 3,
   "id": "05506918",
   "metadata": {},
   "outputs": [
    {
     "name": "stdout",
     "output_type": "stream",
     "text": [
      "[[  0 255   0]\n",
      " [ 50 200  50]\n",
      " [110 127 140]]\n"
     ]
    },
    {
     "data": {
      "text/plain": [
       "numpy.int32"
      ]
     },
     "execution_count": 3,
     "metadata": {},
     "output_type": "execute_result"
    }
   ],
   "source": [
    "# This is how it looks in a text representation\n",
    "\n",
    "print(img)\n",
    "type(img[0,0])"
   ]
  },
  {
   "cell_type": "code",
   "execution_count": 4,
   "id": "6e7152be",
   "metadata": {},
   "outputs": [
    {
     "data": {
      "text/plain": [
       "<matplotlib.image.AxesImage at 0x1dae0d871c0>"
      ]
     },
     "execution_count": 4,
     "metadata": {},
     "output_type": "execute_result"
    },
    {
     "data": {
      "image/png": "[encoded data removed]",
      "text/plain": [
       "<Figure size 432x288 with 1 Axes>"
      ]
     },
     "metadata": {
      "image/png": {
       "height": 231,
       "width": 231
      },
      "needs_background": "light"
     },
     "output_type": "display_data"
    }
   ],
   "source": [
    "# Now let's create a simple 3x3 RGB image.\n",
    "# This time each pixel is an [R,G,B] triad.\n",
    "\n",
    "img = np.array([[[255,   0,   0], [  0, 255,   0], [  0,   0, 255]],   #   red,   green,     blue\n",
    "                [[  0, 255, 255], [255,   0, 255], [255, 255,   0]],   #  cyan, magenta,   yellow\n",
    "                [[  0,   0,   0], [255, 255, 255], [127, 127, 127]]])  # black,   white, gray 50%\n",
    "plt.axis(\"off\")\n",
    "plt.imshow(img)"
   ]
  },
  {
   "cell_type": "code",
   "execution_count": 5,
   "id": "c9798975",
   "metadata": {},
   "outputs": [
    {
     "name": "stdout",
     "output_type": "stream",
     "text": [
      "[[[255   0   0]\n",
      "  [  0 255   0]\n",
      "  [  0   0 255]]\n",
      "\n",
      " [[  0 255 255]\n",
      "  [255   0 255]\n",
      "  [255 255   0]]\n",
      "\n",
      " [[  0   0   0]\n",
      "  [255 255 255]\n",
      "  [127 127 127]]]\n"
     ]
    },
    {
     "data": {
      "text/plain": [
       "numpy.int32"
      ]
     },
     "execution_count": 5,
     "metadata": {},
     "output_type": "execute_result"
    }
   ],
   "source": [
    "# This is how it looks in a text representation\n",
    "\n",
    "print(img)\n",
    "type(img[0,0,0])"
   ]
  },
  {
   "cell_type": "code",
   "execution_count": 6,
   "id": "69d1f8f1",
   "metadata": {},
   "outputs": [
    {
     "data": {
      "text/plain": [
       "<matplotlib.image.AxesImage at 0x1dae0df83a0>"
      ]
     },
     "execution_count": 6,
     "metadata": {},
     "output_type": "execute_result"
    },
    {
     "data": {
      "image/png": "[encoded data removed]",
      "text/plain": [
       "<Figure size 432x288 with 1 Axes>"
      ]
     },
     "metadata": {
      "image/png": {
       "height": 252,
       "width": 271
      },
      "needs_background": "light"
     },
     "output_type": "display_data"
    }
   ],
   "source": [
    "# Now let's create the same image with floating point numbers.\n",
    "\n",
    "img = np.array([[[1.0, 0.0, 0.0], [0.0, 1.0, 0.0], [0.0, 0.0, 1.0]],    #  red,   green,     blue\n",
    "                [[0.0, 1.0, 1.0], [1.0, 0.0, 1.0], [1.0, 1.0, 0.0]],    # cyan, magenta,   yellow\n",
    "                [[0.0, 0.0, 0.0], [1.0, 1.0, 1.0], [0.5, 0.5, 0.5]]])  # black,   white, gray 50%\n",
    "plt.imshow(img)"
   ]
  },
  {
   "cell_type": "code",
   "execution_count": 7,
   "id": "7bca7b59",
   "metadata": {},
   "outputs": [
    {
     "name": "stdout",
     "output_type": "stream",
     "text": [
      "[[[1.  0.  0. ]\n",
      "  [0.  1.  0. ]\n",
      "  [0.  0.  1. ]]\n",
      "\n",
      " [[0.  1.  1. ]\n",
      "  [1.  0.  1. ]\n",
      "  [1.  1.  0. ]]\n",
      "\n",
      " [[0.  0.  0. ]\n",
      "  [1.  1.  1. ]\n",
      "  [0.5 0.5 0.5]]]\n"
     ]
    },
    {
     "data": {
      "text/plain": [
       "numpy.float64"
      ]
     },
     "execution_count": 7,
     "metadata": {},
     "output_type": "execute_result"
    }
   ],
   "source": [
    "# This is how it looks in a text representation\n",
    "\n",
    "print(img)\n",
    "type(img[0,0,0])"
   ]
  },
  {
   "cell_type": "code",
   "execution_count": null,
   "id": "dd59f13d",
   "metadata": {},
   "outputs": [],
   "source": []
  }
 ],
 "metadata": {
  "kernelspec": {
   "display_name": "Python 3",
   "language": "python",
   "name": "python3"
  },
  "language_info": {
   "codemirror_mode": {
    "name": "ipython",
    "version": 3
   },
   "file_extension": ".py",
   "mimetype": "text/x-python",
   "name": "python",
   "nbconvert_exporter": "python",
   "pygments_lexer": "ipython3",
   "version": "3.8.8"
  }
 },
 "nbformat": 4,
 "nbformat_minor": 5
}

{
  "nbformat": 4,
  "nbformat_minor": 0,
  "metadata": {
    "colab": {
      "provenance": []
    },
    "kernelspec": {
      "name": "python3",
      "display_name": "Python 3"
    },
    "language_info": {
      "name": "python"
    }
  },
  "cells": [
    {
      "cell_type": "code",
      "execution_count": 2,
      "metadata": {
        "colab": {
          "base_uri": "https://localhost:8080/"
        },
        "id": "RKGv-ejUnVT_",
        "outputId": "947455b9-461f-4a0b-d7f9-4e280d185e32"
      },
      "outputs": [
        {
          "output_type": "stream",
          "name": "stdout",
          "text": [
            "Z-score: 0.2711630722733202\n"
          ]
        }
      ],
      "source": [
        "import numpy as np\n",
        "\n",
        "def calculate_z_score(value, data):\n",
        "    mean = np.mean(data)\n",
        "    std_dev = np.std(data)\n",
        "    z_score = (value - mean) / std_dev\n",
        "    return z_score\n",
        "\n",
        "# Example usage\n",
        "data = [10, 12, 15, 18, 20]\n",
        "value = 16\n",
        "\n",
        "z_score = calculate_z_score(value, data)\n",
        "print(\"Z-score:\", z_score)\n"
      ]
    },
    {
      "cell_type": "code",
      "source": [],
      "metadata": {
        "id": "pV3pETzFnWqn"
      },
      "execution_count": null,
      "outputs": []
    }
  ]
}
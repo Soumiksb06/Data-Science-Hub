{
 "cells": [
  {
   "cell_type": "markdown",
   "id": "96221fbd-32e3-49a8-aef9-21570d1eaeb4",
   "metadata": {},
   "source": [
    "# Edge Detection Filters\n",
    "Let's learn about Sobel filters. The kernels are very simple. \n",
    "\n",
    "To detect vertical edges, we can use this kernel:\n",
    "<math>\n",
    "\\begin{bmatrix} \n",
    "+1 & 0 & -1  \\\\\n",
    "+2 & 0 & -2 \\\\\n",
    "+1 & 0 & -1 \n",
    "\\end{bmatrix} \n",
    "\n",
    "To detect horizontal edges, we can use this kernel:\n",
    "\\begin{bmatrix} \n",
    "+1 & +2 & +1\\\\\n",
    " 0 & 0 & 0 \\\\\n",
    "-1 & -2 & -1\n",
    "\\end{bmatrix} \n",
    "\n",
    "</math>"
   ]
  },
  {
   "cell_type": "code",
   "execution_count": null,
   "id": "39b5e510-57de-412f-ab01-6d6bafe3dc64",
   "metadata": {},
   "outputs": [],
   "source": [
    "# Let's work with a picture of penguins\n",
    "\n",
    "import numpy as np\n",
    "import matplotlib.pyplot as plt\n",
    "%config InlineBackend.figure_formats = 'retina'\n",
    "from matplotlib import rcParams\n",
    "import cv2\n",
    "from EC_CV import * \n",
    "\n",
    "rcParams['figure.figsize'] = (20,8)\n",
    "\n",
    "img = plt.imread('penguins.jpg')\n",
    "img = cv2.cvtColor(img, cv2.COLOR_RGB2GRAY)\n",
    "plt.imshow(img,cmap='gray')"
   ]
  },
  {
   "cell_type": "code",
   "execution_count": null,
   "id": "dbd59a91-588a-407a-9605-12f97a63700c",
   "metadata": {},
   "outputs": [],
   "source": [
    "# Let's use a vertical Sobel filter\n",
    "\n",
    "kernel = np.matrix([[1, 0, -1], \n",
    "                    [2, 0, -2],\n",
    "                    [1, 0, -1]])\n",
    "\n",
    "vr_edges = cv2.filter2D(src=img, ddepth=-1, kernel=kernel)\n",
    "plt.imshow(vr_edges,cmap='gray')"
   ]
  },
  {
   "cell_type": "code",
   "execution_count": null,
   "id": "e876f39c-e3a3-4d1d-a4ba-5807fd436d76",
   "metadata": {},
   "outputs": [],
   "source": [
    "# Now let's use the opposite vertical Sobel filter\n",
    "\n",
    "kernel = np.matrix([[-1, 0, 1], \n",
    "                    [-2, 0, 2],\n",
    "                    [-1, 0, 1]])\n",
    "\n",
    "vl_edges = cv2.filter2D(src=img, ddepth=-1, kernel=kernel)\n",
    "\n",
    "rcParams['figure.figsize'] = 20,8\n",
    "\n",
    "# display images\n",
    "fig, ax = plt.subplots(1,2)\n",
    "ax[0].imshow(vr_edges,cmap='gray')\n",
    "ax[1].imshow(vl_edges,cmap='gray')\n"
   ]
  },
  {
   "cell_type": "code",
   "execution_count": null,
   "id": "39251237-716c-436e-a4d4-95f33675d49b",
   "metadata": {},
   "outputs": [],
   "source": [
    "# Let's add the two vertical edge images\n",
    "\n",
    "v_edges = cv2.add(vr_edges,vl_edges)\n",
    "plt.imshow(v_edges,cmap='gray')"
   ]
  },
  {
   "cell_type": "code",
   "execution_count": null,
   "id": "cfe4a4c8-b3bc-47a1-98b7-e3c4e8c2fb20",
   "metadata": {},
   "outputs": [],
   "source": [
    "# Now let's do the same for horizontal Sobel filters\n",
    "\n",
    "kernel = np.matrix([[ 1,  2,  1], \n",
    "                    [ 0,  0,  0],\n",
    "                    [-1, -2, -1]])\n",
    "\n",
    "hd_edges = cv2.filter2D(src=img, ddepth=-1, kernel=kernel)\n",
    "\n",
    "kernel = np.matrix([[-1, -2, -1], \n",
    "                    [ 0,  0,  0],\n",
    "                    [ 1,  2,  1]])\n",
    "\n",
    "hu_edges = cv2.filter2D(src=img, ddepth=-1, kernel=kernel)\n",
    "\n",
    "rcParams['figure.figsize'] = 20,8\n",
    "\n",
    "# display images\n",
    "fig, ax = plt.subplots(1,2)\n",
    "ax[0].imshow(hd_edges,cmap='gray')\n",
    "ax[1].imshow(hu_edges,cmap='gray')"
   ]
  },
  {
   "cell_type": "code",
   "execution_count": null,
   "id": "3b6391af-aa3b-4296-84ed-1a320331380b",
   "metadata": {},
   "outputs": [],
   "source": [
    "# Let's add the two images\n",
    "\n",
    "h_edges = cv2.add(hd_edges,hu_edges)\n",
    "plt.imshow(h_edges, cmap='gray')"
   ]
  },
  {
   "cell_type": "code",
   "execution_count": null,
   "id": "8e08b477-0467-4b26-b4d2-11729af21d2f",
   "metadata": {},
   "outputs": [],
   "source": [
    "# Now let's add all edge images\n",
    "\n",
    "all_edges = cv2.add(h_edges,v_edges) \n",
    "plt.imshow(all_edges, cmap='gray')\n"
   ]
  },
  {
   "cell_type": "code",
   "execution_count": null,
   "id": "1e629c91-8f0f-46ee-8566-bfcd24cd8ba6",
   "metadata": {},
   "outputs": [],
   "source": [
    "# Just for fun, let's turn it into black and white\n",
    "\n",
    "(thresh, blackAndWhiteImage) = cv2.threshold(all_edges, 127, 255, cv2.THRESH_BINARY)\n",
    "plt.imshow(blackAndWhiteImage, cmap='gray')\n",
    "print(np.shape(blackAndWhiteImage))"
   ]
  },
  {
   "cell_type": "code",
   "execution_count": null,
   "id": "a95c9c81-cd0f-4e3f-9dfb-c6ad703959fe",
   "metadata": {},
   "outputs": [],
   "source": [
    "# Just for fun, let's turn it into black and white\n",
    "\n",
    "plt.imshow(cv2.bitwise_not(blackAndWhiteImage), cmap='gray')\n",
    "print(np.shape(blackAndWhiteImage))"
   ]
  }
 ],
 "metadata": {
  "kernelspec": {
   "display_name": "Python 3 (ipykernel)",
   "language": "python",
   "name": "python3"
  },
  "language_info": {
   "codemirror_mode": {
    "name": "ipython",
    "version": 3
   },
   "file_extension": ".py",
   "mimetype": "text/x-python",
   "name": "python",
   "nbconvert_exporter": "python",
   "pygments_lexer": "ipython3",
   "version": "3.9.13"
  }
 },
 "nbformat": 4,
 "nbformat_minor": 5
}

{
 "cells": [
  {
   "cell_type": "code",
   "execution_count": 10,
   "id": "31588426",
   "metadata": {},
   "outputs": [
    {
     "name": "stdout",
     "output_type": "stream",
     "text": [
      "Collecting pydot\n",
      "  Downloading pydot-1.4.2-py2.py3-none-any.whl (21 kB)\n",
      "Requirement already satisfied: pyparsing>=2.1.4 in c:\\users\\soumi\\anaconda3\\lib\\site-packages (from pydot) (3.0.9)\n",
      "Installing collected packages: pydot\n",
      "Successfully installed pydot-1.4.2\n",
      "Note: you may need to restart the kernel to use updated packages.\n"
     ]
    }
   ],
   "source": [
    "pip install pydot\n"
   ]
  },
  {
   "cell_type": "code",
   "execution_count": 4,
   "id": "f89ce761",
   "metadata": {},
   "outputs": [],
   "source": [
    "import pydot\n",
    "\n",
    "# Create a new graph\n",
    "graph = pydot.Dot(graph_type='digraph')\n",
    "\n",
    "# Define conventional shape styles\n",
    "shape_styles = {\n",
    "    'Start': 'ellipse',\n",
    "    'Input': 'box',\n",
    "    'Process': 'box',\n",
    "    'Decision': 'diamond',\n",
    "    'Print': 'box',\n",
    "    'End': 'ellipse',\n",
    "}\n",
    "\n",
    "# Function to add a node with a specified shape\n",
    "def add_node(name, label, shape):\n",
    "    node = pydot.Node(name, shape=shape, label=label)\n",
    "    graph.add_node(node)\n",
    "    return node\n",
    "\n",
    "# Add nodes with styles\n",
    "start = add_node('Start', 'Start', shape_styles['Start'])\n",
    "input_node = add_node('Input', 'Input a positive integer n', shape_styles['Input'])\n",
    "initialize_sum = add_node('InitializeSum', 'Initialize sum to 0', shape_styles['Process'])\n",
    "initialize_i = add_node('InitializeI', 'Initialize i to 1', shape_styles['Process'])\n",
    "loop_start = add_node('LoopStart', 'Start loop', shape_styles['Process'])\n",
    "check_i = add_node('CheckI', 'If i <= n-1, continue loop', shape_styles['Decision'])\n",
    "divisible = add_node('Divisible', 'If n is divisible by i', shape_styles['Decision'])\n",
    "add_to_sum = add_node('AddToSum', 'Add i to sum', shape_styles['Process'])\n",
    "increment_i = add_node('IncrementI', 'Increment i', shape_styles['Process'])\n",
    "check_sum = add_node('CheckSum', 'If sum is equal to n', shape_styles['Decision'])\n",
    "perfect = add_node('Perfect', 'Print \"n is a Perfect Number\"', shape_styles['Print'])\n",
    "not_perfect = add_node('NotPerfect', 'Print \"n is not a Perfect Number\"', shape_styles['Print'])\n",
    "end = add_node('End', 'End', shape_styles['End'])\n",
    "\n",
    "# Add edges with labels\n",
    "edges = [\n",
    "    ('Start', 'Input', ''),\n",
    "    ('Input', 'InitializeSum', ''),\n",
    "    ('InitializeSum', 'InitializeI', ''),\n",
    "    ('InitializeI', 'LoopStart', ''),\n",
    "    ('LoopStart', 'CheckI', ''),\n",
    "    ('CheckI', 'End', 'i > n-1 (No)'),\n",
    "    ('CheckI', 'Divisible', 'i <= n-1 (Yes)'),\n",
    "    ('Divisible', 'AddToSum', 'Yes'),\n",
    "    ('Divisible', 'IncrementI', 'No'),\n",
    "    ('AddToSum', 'IncrementI', ''),\n",
    "    ('IncrementI', 'CheckI', ''),\n",
    "    ('CheckI', 'LoopStart', ''),\n",
    "    ('LoopStart', 'CheckSum', ''),\n",
    "    ('CheckSum', 'Perfect', 'Yes'),\n",
    "    ('CheckSum', 'NotPerfect', 'No'),\n",
    "    ('Perfect', 'End', ''),\n",
    "    ('NotPerfect', 'End', ''),\n",
    "]\n",
    "\n",
    "for edge in edges:\n",
    "    graph.add_edge(pydot.Edge(edge[0], edge[1], label=edge[2], shape='plaintext'))\n",
    "\n",
    "# Set a higher DPI (e.g., 300) for higher quality\n",
    "graph.set_dpi(300)\n",
    "\n",
    "# Save the flowchart as an image\n",
    "graph.write_png('perfect_number_flowchart.png')\n"
   ]
  },
  {
   "cell_type": "code",
   "execution_count": null,
   "id": "3dfb3439",
   "metadata": {},
   "outputs": [],
   "source": []
  }
 ],
 "metadata": {
  "kernelspec": {
   "display_name": "Python 3 (ipykernel)",
   "language": "python",
   "name": "python3"
  },
  "language_info": {
   "codemirror_mode": {
    "name": "ipython",
    "version": 3
   },
   "file_extension": ".py",
   "mimetype": "text/x-python",
   "name": "python",
   "nbconvert_exporter": "python",
   "pygments_lexer": "ipython3",
   "version": "3.11.4"
  }
 },
 "nbformat": 4,
 "nbformat_minor": 5
}
